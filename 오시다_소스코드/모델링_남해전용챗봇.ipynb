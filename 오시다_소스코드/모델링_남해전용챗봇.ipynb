{
 "cells": [
  {
   "cell_type": "markdown",
   "metadata": {
    "id": "aupRFI8fPZo_"
   },
   "source": [
    "# Import"
   ]
  },
  {
   "cell_type": "code",
   "execution_count": 1,
   "metadata": {
    "colab": {
     "base_uri": "https://localhost:8080/"
    },
    "executionInfo": {
     "elapsed": 15601,
     "status": "ok",
     "timestamp": 1738549900545,
     "user": {
      "displayName": "정창현",
      "userId": "04730220796825329844"
     },
     "user_tz": -540
    },
    "id": "N5gutprpN3hB",
    "outputId": "95c900fd-6b9f-4092-c039-38c66989e6b2"
   },
   "outputs": [
    {
     "name": "stdout",
     "output_type": "stream",
     "text": [
      "Requirement already satisfied: openai in /usr/local/lib/python3.11/dist-packages (1.59.9)\n",
      "Requirement already satisfied: anyio<5,>=3.5.0 in /usr/local/lib/python3.11/dist-packages (from openai) (3.7.1)\n",
      "Requirement already satisfied: distro<2,>=1.7.0 in /usr/local/lib/python3.11/dist-packages (from openai) (1.9.0)\n",
      "Requirement already satisfied: httpx<1,>=0.23.0 in /usr/local/lib/python3.11/dist-packages (from openai) (0.28.1)\n",
      "Requirement already satisfied: jiter<1,>=0.4.0 in /usr/local/lib/python3.11/dist-packages (from openai) (0.8.2)\n",
      "Requirement already satisfied: pydantic<3,>=1.9.0 in /usr/local/lib/python3.11/dist-packages (from openai) (2.10.6)\n",
      "Requirement already satisfied: sniffio in /usr/local/lib/python3.11/dist-packages (from openai) (1.3.1)\n",
      "Requirement already satisfied: tqdm>4 in /usr/local/lib/python3.11/dist-packages (from openai) (4.67.1)\n",
      "Requirement already satisfied: typing-extensions<5,>=4.11 in /usr/local/lib/python3.11/dist-packages (from openai) (4.12.2)\n",
      "Requirement already satisfied: idna>=2.8 in /usr/local/lib/python3.11/dist-packages (from anyio<5,>=3.5.0->openai) (3.10)\n",
      "Requirement already satisfied: certifi in /usr/local/lib/python3.11/dist-packages (from httpx<1,>=0.23.0->openai) (2024.12.14)\n",
      "Requirement already satisfied: httpcore==1.* in /usr/local/lib/python3.11/dist-packages (from httpx<1,>=0.23.0->openai) (1.0.7)\n",
      "Requirement already satisfied: h11<0.15,>=0.13 in /usr/local/lib/python3.11/dist-packages (from httpcore==1.*->httpx<1,>=0.23.0->openai) (0.14.0)\n",
      "Requirement already satisfied: annotated-types>=0.6.0 in /usr/local/lib/python3.11/dist-packages (from pydantic<3,>=1.9.0->openai) (0.7.0)\n",
      "Requirement already satisfied: pydantic-core==2.27.2 in /usr/local/lib/python3.11/dist-packages (from pydantic<3,>=1.9.0->openai) (2.27.2)\n"
     ]
    }
   ],
   "source": [
    "!pip install openai\n",
    "from openai import OpenAI\n",
    "import pandas as pd\n",
    "import numpy as np\n",
    "import os\n",
    "import openai\n",
    "import json"
   ]
  },
  {
   "cell_type": "markdown",
   "metadata": {
    "id": "qht25s8rPePe"
   },
   "source": [
    "# Data Preprocessing"
   ]
  },
  {
   "cell_type": "code",
   "execution_count": null,
   "metadata": {
    "id": "q5KVRAUpN6UO"
   },
   "outputs": [],
   "source": [
    "file_path = '/content/fine_tuning_expanded.xlsx'\n",
    "df = pd.read_excel(file_path)"
   ]
  },
  {
   "cell_type": "code",
   "execution_count": null,
   "metadata": {
    "id": "4HyoMdiBOhyC"
   },
   "outputs": [],
   "source": [
    "output = []\n",
    "\n",
    "for _, row in df.iterrows():\n",
    "    conversation = {\n",
    "        'messages': [\n",
    "            {'role': 'user', 'content': row['question']},\n",
    "            {'role': 'assistant', 'content': row['answer']}\n",
    "        ]\n",
    "    }\n",
    "    output.append(conversation)"
   ]
  },
  {
   "cell_type": "code",
   "execution_count": null,
   "metadata": {
    "colab": {
     "base_uri": "https://localhost:8080/"
    },
    "id": "72FWLGzMN9EU",
    "outputId": "af17099f-feaa-4856-d276-19c4665fe12c"
   },
   "outputs": [
    {
     "name": "stdout",
     "output_type": "stream",
     "text": [
      "훈련 jsonl 완\n"
     ]
    }
   ],
   "source": [
    "# 훈련 json data\n",
    "file_path = \"data_gpt-3.5-turbo_train.jsonl\"\n",
    "with open(file_path, \"w\", encoding=\"utf-8\") as file:\n",
    "    for message in output:\n",
    "        json.dump(message, file, ensure_ascii=False)\n",
    "        file.write(\"\\n\")\n",
    "print(\"훈련 jsonl 완\")"
   ]
  },
  {
   "cell_type": "markdown",
   "metadata": {
    "id": "mE8_sKUSPiOP"
   },
   "source": [
    "#Train"
   ]
  },
  {
   "cell_type": "code",
   "execution_count": null,
   "metadata": {
    "executionInfo": {
     "elapsed": 267,
     "status": "ok",
     "timestamp": 1738549944652,
     "user": {
      "displayName": "정창현",
      "userId": "04730220796825329844"
     },
     "user_tz": -540
    },
    "id": "ADM2AvBRptgo"
   },
   "outputs": [],
   "source": [
    "api_key = \"\"\n",
    "\n",
    "client = OpenAI(api_key=api_key)"
   ]
  },
  {
   "cell_type": "code",
   "execution_count": null,
   "metadata": {
    "colab": {
     "base_uri": "https://localhost:8080/",
     "height": 211
    },
    "executionInfo": {
     "elapsed": 524,
     "status": "error",
     "timestamp": 1738549928345,
     "user": {
      "displayName": "정창현",
      "userId": "04730220796825329844"
     },
     "user_tz": -540
    },
    "id": "eEErVEitN_0x",
    "outputId": "249cad20-1ad0-4ad9-82e7-bf47f4df8b2a"
   },
   "outputs": [
    {
     "ename": "FileNotFoundError",
     "evalue": "[Errno 2] No such file or directory: 'data_gpt-3.5-turbo_train.jsonl'",
     "output_type": "error",
     "traceback": [
      "\u001b[0;31m---------------------------------------------------------------------------\u001b[0m",
      "\u001b[0;31mFileNotFoundError\u001b[0m                         Traceback (most recent call last)",
      "\u001b[0;32m<ipython-input-5-3e8a249c3025>\u001b[0m in \u001b[0;36m<cell line: 0>\u001b[0;34m()\u001b[0m\n\u001b[1;32m      6\u001b[0m \u001b[0;31m# 훈련 데이터 jsonl 파일 업로드\u001b[0m\u001b[0;34m\u001b[0m\u001b[0;34m\u001b[0m\u001b[0m\n\u001b[1;32m      7\u001b[0m file_train=client.files.create(\n\u001b[0;32m----> 8\u001b[0;31m   \u001b[0mfile\u001b[0m\u001b[0;34m=\u001b[0m\u001b[0mopen\u001b[0m\u001b[0;34m(\u001b[0m\u001b[0;34m\"data_gpt-3.5-turbo_train.jsonl\"\u001b[0m\u001b[0;34m,\u001b[0m \u001b[0;34m\"rb\"\u001b[0m\u001b[0;34m)\u001b[0m\u001b[0;34m,\u001b[0m\u001b[0;34m\u001b[0m\u001b[0;34m\u001b[0m\u001b[0m\n\u001b[0m\u001b[1;32m      9\u001b[0m   \u001b[0mpurpose\u001b[0m\u001b[0;34m=\u001b[0m\u001b[0;34m\"fine-tune\"\u001b[0m\u001b[0;34m\u001b[0m\u001b[0;34m\u001b[0m\u001b[0m\n\u001b[1;32m     10\u001b[0m )\n",
      "\u001b[0;31mFileNotFoundError\u001b[0m: [Errno 2] No such file or directory: 'data_gpt-3.5-turbo_train.jsonl'"
     ]
    }
   ],
   "source": [
    "# OpenAI API 키 설정\n",
    "api_key = \"\"\n",
    "\n",
    "client = OpenAI(api_key=api_key)\n",
    "\n",
    "# 훈련 데이터 jsonl 파일 업로드\n",
    "file_train=client.files.create(\n",
    "  file=open(\"data_gpt-3.5-turbo_train.jsonl\", \"rb\"),\n",
    "  purpose=\"fine-tune\"\n",
    ")\n",
    "print(file_train.id)"
   ]
  },
  {
   "cell_type": "code",
   "execution_count": null,
   "metadata": {
    "id": "JK2Hv1TZOErk"
   },
   "outputs": [],
   "source": [
    "# Fine-Tuning 시작\n",
    "client.fine_tuning.jobs.create(\n",
    "  training_file=file_train.id,\n",
    "  model=\"gpt-4o-mini-2024-07-18\",\n",
    "  # model = 'gpt-3.5-turbo',\n",
    "  hyperparameters={\n",
    "    \"n_epochs\":10,\n",
    "    \"learning_rate_multiplier\":1,\n",
    "    \"batch_size\":4\n",
    "  }\n",
    ")"
   ]
  },
  {
   "cell_type": "markdown",
   "metadata": {
    "id": "cNm7al4hPkdr"
   },
   "source": [
    "# Test"
   ]
  },
  {
   "cell_type": "code",
   "execution_count": 7,
   "metadata": {
    "executionInfo": {
     "elapsed": 268,
     "status": "ok",
     "timestamp": 1738549948395,
     "user": {
      "displayName": "정창현",
      "userId": "04730220796825329844"
     },
     "user_tz": -540
    },
    "id": "j9T8gHFhOKw4"
   },
   "outputs": [],
   "source": [
    "# ChatGPT 기본 모델 호출 함수\n",
    "def ask_chatgpt1(question):\n",
    "\n",
    "    # api key 지정\n",
    "    client = OpenAI(api_key = api_key)\n",
    "\n",
    "    # # API를 사용하여 'gpt-3.5-turbo' 모델로부터 응답을 생성합니다.\n",
    "    response = client.chat.completions.create(\n",
    "        model = 'gpt-3.5-turbo',\n",
    "        messages=[\n",
    "            {\"role\": \"system\", \"content\": \"You are a helpful assistant.\"},  # 기본 역할 부여\n",
    "            {\"role\": \"user\", \"content\": question},                          # 질문\n",
    "        ]\n",
    "    )\n",
    "\n",
    "    return response.choices[0].message.content\n",
    "\n",
    "# 튜닝된 모델 호출 함수\n",
    "def tunning_model(question):\n",
    "\n",
    "    # api key 지정\n",
    "    client = OpenAI(api_key = api_key)\n",
    "\n",
    "    # # API를 사용하여 'gpt-3.5-turbo' 모델로부터 응답을 생성합니다.\n",
    "    response = client.chat.completions.create(\n",
    "        model=\"ft:gpt-4o-mini-2024-07-18:aivle::AmdMMDVB\",\n",
    "       # model = 'gpt-3.5-turbo',\n",
    "        messages=[\n",
    "            {\"role\": \"system\", \"content\": \"You are a helpful assistant.\"},  # 기본 역할 부여\n",
    "            {\"role\": \"user\", \"content\": question},                          # 질문\n",
    "        ]\n",
    "    )\n",
    "\n",
    "    return response.choices[0].message.content"
   ]
  },
  {
   "cell_type": "code",
   "execution_count": 20,
   "metadata": {
    "executionInfo": {
     "elapsed": 5736,
     "status": "ok",
     "timestamp": 1738550843541,
     "user": {
      "displayName": "정창현",
      "userId": "04730220796825329844"
     },
     "user_tz": -540
    },
    "id": "-mrqckyfOSLQ"
   },
   "outputs": [],
   "source": [
    "question = \"상주 은모래비치 포토존을 알려줘\"\n",
    "\n",
    "# 모델 호출\n",
    "result1 = ask_chatgpt1(question)\n",
    "result2 = tunning_model(question)\n",
    "\n",
    "# 결과 비교 DataFrame 생성\n",
    "df2 = pd.DataFrame({\n",
    "    \"질문\": [question],\n",
    "    \"ChatGPT 기본 모델 응답\": [result1],\n",
    "    \"튜닝된 모델 응답\": [result2]\n",
    "})"
   ]
  },
  {
   "cell_type": "code",
   "execution_count": 21,
   "metadata": {
    "colab": {
     "base_uri": "https://localhost:8080/",
     "height": 115
    },
    "executionInfo": {
     "elapsed": 273,
     "status": "ok",
     "timestamp": 1738550846842,
     "user": {
      "displayName": "정창현",
      "userId": "04730220796825329844"
     },
     "user_tz": -540
    },
    "id": "zrBVfn1zOT01",
    "outputId": "16686720-a024-4262-8992-cf95f580de9d"
   },
   "outputs": [
    {
     "data": {
      "application/vnd.google.colaboratory.intrinsic+json": {
       "summary": "{\n  \"name\": \"df2\",\n  \"rows\": 1,\n  \"fields\": [\n    {\n      \"column\": \"\\uc9c8\\ubb38\",\n      \"properties\": {\n        \"dtype\": \"string\",\n        \"num_unique_values\": 1,\n        \"samples\": [\n          \"\\uc0c1\\uc8fc \\uc740\\ubaa8\\ub798\\ube44\\uce58 \\ud3ec\\ud1a0\\uc874\\uc744 \\uc54c\\ub824\\uc918\"\n        ],\n        \"semantic_type\": \"\",\n        \"description\": \"\"\n      }\n    },\n    {\n      \"column\": \"ChatGPT \\uae30\\ubcf8 \\ubaa8\\ub378 \\uc751\\ub2f5\",\n      \"properties\": {\n        \"dtype\": \"string\",\n        \"num_unique_values\": 1,\n        \"samples\": [\n          \"\\uc8c4\\uc1a1\\ud558\\uc9c0\\ub9cc, \\uc81c\\uac00 \\uc54c\\uace0 \\uc788\\ub294 \\uc815\\ubcf4\\uc5d0\\ub294 \\\"\\uc0c1\\uc8fc \\uc740\\ubaa8\\ub798\\ube44\\uce58 \\ud3ec\\ud1a0\\uc874\\\"\\uc5d0 \\ub300\\ud55c \\uad6c\\uccb4\\uc801\\uc778 \\uc815\\ubcf4\\uac00 \\uc5c6\\uc2b5\\ub2c8\\ub2e4. \\uc6d0\\ud558\\uc2dc\\ub294 \\uc815\\ubcf4\\ub97c \\ucc3e\\uc73c\\uc2dc\\uae30 \\uc704\\ud574 \\uad00\\ub828 \\uc0ac\\uc774\\ud2b8\\ub098 \\uc9c0\\uc5ed \\uad00\\uad11 \\uc548\\ub0b4\\uc18c \\ub4f1\\uc744 \\uc774\\uc6a9\\ud558\\uc2dc\\uac70\\ub098, \\ud574\\ub2f9 \\uba85\\uce6d\\uc744 \\ud3ec\\ud568\\ud558\\uc5ec \\uc880 \\ub354 \\uad6c\\uccb4\\uc801\\uc778 \\uac80\\uc0c9\\uc5b4\\ub85c \\uc628\\ub77c\\uc778 \\uac80\\uc0c9\\uc744 \\uc2dc\\ub3c4\\ud574 \\ubcf4\\uc2dc\\ub294 \\uac83\\uc744 \\uad8c\\ud574\\ub4dc\\ub9bd\\ub2c8\\ub2e4. \\ubd80\\ub514 \\uc6d0\\ud558\\uc2dc\\ub294 \\uc815\\ubcf4\\ub97c \\ube60\\ub974\\uac8c \\ucc3e\\uc73c\\uc2dc\\uae38 \\ubc14\\ub78d\\ub2c8\\ub2e4. \\ud544\\uc694\\ud558\\uc2e0 \\uc815\\ubcf4\\uac00 \\uc788\\uc73c\\uba74 \\ub2e4\\uc2dc \\ubb3c\\uc5b4\\ubd10 \\uc8fc\\uc138\\uc694. \\ub3c4\\uc6c0\\uc774 \\ud544\\uc694\\ud558\\uc2dc\\uba74 \\ub9d0\\uc500\\ud574\\uc8fc\\uc138\\uc694.\"\n        ],\n        \"semantic_type\": \"\",\n        \"description\": \"\"\n      }\n    },\n    {\n      \"column\": \"\\ud29c\\ub2dd\\ub41c \\ubaa8\\ub378 \\uc751\\ub2f5\",\n      \"properties\": {\n        \"dtype\": \"string\",\n        \"num_unique_values\": 1,\n        \"samples\": [\n          \"\\uc0c1\\uc8fc \\uc740\\ubaa8\\ub798\\ube44\\uce58\\uc5d0 '\\uc740\\ube5b \\ubb3c\\uacb0' \\uc870\\ud615\\ubb3c\\uc774 \\uc788\\uc2b5\\ub2c8\\ub2e4. \\uc790\\uc138\\ud55c \\ub0b4\\uc6a9\\uc740 \\ucd94\\uac00 \\ubb38\\uc758 \\ubc14\\ub78d\\ub2c8\\ub2e4.\"\n        ],\n        \"semantic_type\": \"\",\n        \"description\": \"\"\n      }\n    }\n  ]\n}",
       "type": "dataframe",
       "variable_name": "df2"
      },
      "text/html": [
       "\n",
       "  <div id=\"df-e2d22c5f-0ede-4c80-8d09-47359b4b5052\" class=\"colab-df-container\">\n",
       "    <div>\n",
       "<style scoped>\n",
       "    .dataframe tbody tr th:only-of-type {\n",
       "        vertical-align: middle;\n",
       "    }\n",
       "\n",
       "    .dataframe tbody tr th {\n",
       "        vertical-align: top;\n",
       "    }\n",
       "\n",
       "    .dataframe thead th {\n",
       "        text-align: right;\n",
       "    }\n",
       "</style>\n",
       "<table border=\"1\" class=\"dataframe\">\n",
       "  <thead>\n",
       "    <tr style=\"text-align: right;\">\n",
       "      <th></th>\n",
       "      <th>질문</th>\n",
       "      <th>ChatGPT 기본 모델 응답</th>\n",
       "      <th>튜닝된 모델 응답</th>\n",
       "    </tr>\n",
       "  </thead>\n",
       "  <tbody>\n",
       "    <tr>\n",
       "      <th>0</th>\n",
       "      <td>상주 은모래비치 포토존을 알려줘</td>\n",
       "      <td>죄송하지만, 제가 알고 있는 정보에는 \"상주 은모래비치 포토존\"에 대한 구체적인 정보가 없습니다. 원하시는 정보를 찾으시기 위해 관련 사이트나 지역 관광 안내소 등을 이용하시거나, 해당 명칭을 포함하여 좀 더 구체적인 검색어로 온라인 검색을 시도해 보시는 것을 권해드립니다. 부디 원하시는 정보를 빠르게 찾으시길 바랍니다. 필요하신 정보가 있으면 다시 물어봐 주세요. 도움이 필요하시면 말씀해주세요.</td>\n",
       "      <td>상주 은모래비치에 '은빛 물결' 조형물이 있습니다. 자세한 내용은 추가 문의 바랍니다.</td>\n",
       "    </tr>\n",
       "  </tbody>\n",
       "</table>\n",
       "</div>\n",
       "    <div class=\"colab-df-buttons\">\n",
       "\n",
       "  <div class=\"colab-df-container\">\n",
       "    <button class=\"colab-df-convert\" onclick=\"convertToInteractive('df-e2d22c5f-0ede-4c80-8d09-47359b4b5052')\"\n",
       "            title=\"Convert this dataframe to an interactive table.\"\n",
       "            style=\"display:none;\">\n",
       "\n",
       "  <svg xmlns=\"http://www.w3.org/2000/svg\" height=\"24px\" viewBox=\"0 -960 960 960\">\n",
       "    <path d=\"M120-120v-720h720v720H120Zm60-500h600v-160H180v160Zm220 220h160v-160H400v160Zm0 220h160v-160H400v160ZM180-400h160v-160H180v160Zm440 0h160v-160H620v160ZM180-180h160v-160H180v160Zm440 0h160v-160H620v160Z\"/>\n",
       "  </svg>\n",
       "    </button>\n",
       "\n",
       "  <style>\n",
       "    .colab-df-container {\n",
       "      display:flex;\n",
       "      gap: 12px;\n",
       "    }\n",
       "\n",
       "    .colab-df-convert {\n",
       "      background-color: #E8F0FE;\n",
       "      border: none;\n",
       "      border-radius: 50%;\n",
       "      cursor: pointer;\n",
       "      display: none;\n",
       "      fill: #1967D2;\n",
       "      height: 32px;\n",
       "      padding: 0 0 0 0;\n",
       "      width: 32px;\n",
       "    }\n",
       "\n",
       "    .colab-df-convert:hover {\n",
       "      background-color: #E2EBFA;\n",
       "      box-shadow: 0px 1px 2px rgba(60, 64, 67, 0.3), 0px 1px 3px 1px rgba(60, 64, 67, 0.15);\n",
       "      fill: #174EA6;\n",
       "    }\n",
       "\n",
       "    .colab-df-buttons div {\n",
       "      margin-bottom: 4px;\n",
       "    }\n",
       "\n",
       "    [theme=dark] .colab-df-convert {\n",
       "      background-color: #3B4455;\n",
       "      fill: #D2E3FC;\n",
       "    }\n",
       "\n",
       "    [theme=dark] .colab-df-convert:hover {\n",
       "      background-color: #434B5C;\n",
       "      box-shadow: 0px 1px 3px 1px rgba(0, 0, 0, 0.15);\n",
       "      filter: drop-shadow(0px 1px 2px rgba(0, 0, 0, 0.3));\n",
       "      fill: #FFFFFF;\n",
       "    }\n",
       "  </style>\n",
       "\n",
       "    <script>\n",
       "      const buttonEl =\n",
       "        document.querySelector('#df-e2d22c5f-0ede-4c80-8d09-47359b4b5052 button.colab-df-convert');\n",
       "      buttonEl.style.display =\n",
       "        google.colab.kernel.accessAllowed ? 'block' : 'none';\n",
       "\n",
       "      async function convertToInteractive(key) {\n",
       "        const element = document.querySelector('#df-e2d22c5f-0ede-4c80-8d09-47359b4b5052');\n",
       "        const dataTable =\n",
       "          await google.colab.kernel.invokeFunction('convertToInteractive',\n",
       "                                                    [key], {});\n",
       "        if (!dataTable) return;\n",
       "\n",
       "        const docLinkHtml = 'Like what you see? Visit the ' +\n",
       "          '<a target=\"_blank\" href=https://colab.research.google.com/notebooks/data_table.ipynb>data table notebook</a>'\n",
       "          + ' to learn more about interactive tables.';\n",
       "        element.innerHTML = '';\n",
       "        dataTable['output_type'] = 'display_data';\n",
       "        await google.colab.output.renderOutput(dataTable, element);\n",
       "        const docLink = document.createElement('div');\n",
       "        docLink.innerHTML = docLinkHtml;\n",
       "        element.appendChild(docLink);\n",
       "      }\n",
       "    </script>\n",
       "  </div>\n",
       "\n",
       "\n",
       "  <div id=\"id_20a7be05-bf12-47ac-9fea-54012aac448e\">\n",
       "    <style>\n",
       "      .colab-df-generate {\n",
       "        background-color: #E8F0FE;\n",
       "        border: none;\n",
       "        border-radius: 50%;\n",
       "        cursor: pointer;\n",
       "        display: none;\n",
       "        fill: #1967D2;\n",
       "        height: 32px;\n",
       "        padding: 0 0 0 0;\n",
       "        width: 32px;\n",
       "      }\n",
       "\n",
       "      .colab-df-generate:hover {\n",
       "        background-color: #E2EBFA;\n",
       "        box-shadow: 0px 1px 2px rgba(60, 64, 67, 0.3), 0px 1px 3px 1px rgba(60, 64, 67, 0.15);\n",
       "        fill: #174EA6;\n",
       "      }\n",
       "\n",
       "      [theme=dark] .colab-df-generate {\n",
       "        background-color: #3B4455;\n",
       "        fill: #D2E3FC;\n",
       "      }\n",
       "\n",
       "      [theme=dark] .colab-df-generate:hover {\n",
       "        background-color: #434B5C;\n",
       "        box-shadow: 0px 1px 3px 1px rgba(0, 0, 0, 0.15);\n",
       "        filter: drop-shadow(0px 1px 2px rgba(0, 0, 0, 0.3));\n",
       "        fill: #FFFFFF;\n",
       "      }\n",
       "    </style>\n",
       "    <button class=\"colab-df-generate\" onclick=\"generateWithVariable('df2')\"\n",
       "            title=\"Generate code using this dataframe.\"\n",
       "            style=\"display:none;\">\n",
       "\n",
       "  <svg xmlns=\"http://www.w3.org/2000/svg\" height=\"24px\"viewBox=\"0 0 24 24\"\n",
       "       width=\"24px\">\n",
       "    <path d=\"M7,19H8.4L18.45,9,17,7.55,7,17.6ZM5,21V16.75L18.45,3.32a2,2,0,0,1,2.83,0l1.4,1.43a1.91,1.91,0,0,1,.58,1.4,1.91,1.91,0,0,1-.58,1.4L9.25,21ZM18.45,9,17,7.55Zm-12,3A5.31,5.31,0,0,0,4.9,8.1,5.31,5.31,0,0,0,1,6.5,5.31,5.31,0,0,0,4.9,4.9,5.31,5.31,0,0,0,6.5,1,5.31,5.31,0,0,0,8.1,4.9,5.31,5.31,0,0,0,12,6.5,5.46,5.46,0,0,0,6.5,12Z\"/>\n",
       "  </svg>\n",
       "    </button>\n",
       "    <script>\n",
       "      (() => {\n",
       "      const buttonEl =\n",
       "        document.querySelector('#id_20a7be05-bf12-47ac-9fea-54012aac448e button.colab-df-generate');\n",
       "      buttonEl.style.display =\n",
       "        google.colab.kernel.accessAllowed ? 'block' : 'none';\n",
       "\n",
       "      buttonEl.onclick = () => {\n",
       "        google.colab.notebook.generateWithVariable('df2');\n",
       "      }\n",
       "      })();\n",
       "    </script>\n",
       "  </div>\n",
       "\n",
       "    </div>\n",
       "  </div>\n"
      ],
      "text/plain": [
       "                  질문  \\\n",
       "0  상주 은모래비치 포토존을 알려줘   \n",
       "\n",
       "                                                                                                                                                                                                                  ChatGPT 기본 모델 응답  \\\n",
       "0  죄송하지만, 제가 알고 있는 정보에는 \"상주 은모래비치 포토존\"에 대한 구체적인 정보가 없습니다. 원하시는 정보를 찾으시기 위해 관련 사이트나 지역 관광 안내소 등을 이용하시거나, 해당 명칭을 포함하여 좀 더 구체적인 검색어로 온라인 검색을 시도해 보시는 것을 권해드립니다. 부디 원하시는 정보를 빠르게 찾으시길 바랍니다. 필요하신 정보가 있으면 다시 물어봐 주세요. 도움이 필요하시면 말씀해주세요.   \n",
       "\n",
       "                                          튜닝된 모델 응답  \n",
       "0  상주 은모래비치에 '은빛 물결' 조형물이 있습니다. 자세한 내용은 추가 문의 바랍니다.  "
      ]
     },
     "metadata": {},
     "output_type": "display_data"
    }
   ],
   "source": [
    "# 데이터프레임 출력 옵션 설정\n",
    "pd.options.display.max_colwidth = None  # 각 열의 최대 너비를 제한 없이 설정\n",
    "pd.options.display.width = 0  # 출력 폭 제한 해제\n",
    "\n",
    "display(df2)"
   ]
  }
 ],
 "metadata": {
  "colab": {
   "provenance": []
  },
  "kernelspec": {
   "display_name": "Python 3",
   "name": "python3"
  },
  "language_info": {
   "name": "python"
  }
 },
 "nbformat": 4,
 "nbformat_minor": 0
}
